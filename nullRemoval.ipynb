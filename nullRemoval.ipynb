{
 "cells": [
  {
   "cell_type": "code",
   "execution_count": 1,
   "metadata": {},
   "outputs": [],
   "source": [
    "import pandas as pd\n"
   ]
  },
  {
   "cell_type": "code",
   "execution_count": 2,
   "metadata": {},
   "outputs": [],
   "source": [
    "# load the 4 dirty csvs from yahoo finance into dataframes\n",
    "thales = pd.read_csv('dirtyThales_Stock.csv')\n",
    "france = pd.read_csv('dirtyFRA_Index.csv')\n",
    "sp500 = pd.read_csv('dirtySP500_INDEX.csv')\n",
    "euro = pd.read_csv('dirtyEURO_Index.csv')\n"
   ]
  },
  {
   "cell_type": "code",
   "execution_count": 3,
   "metadata": {},
   "outputs": [],
   "source": [
    "# remove nulls from dirty dataframes\n",
    "clean_thales = thales.dropna()\n",
    "clean_france = france.dropna()\n",
    "clean_sp500 = sp500.dropna()\n",
    "clean_euro = euro.dropna()"
   ]
  },
  {
   "cell_type": "code",
   "execution_count": 4,
   "metadata": {},
   "outputs": [],
   "source": [
    "# export clean dataframes to become clean csv's without panda's index column\n",
    "clean_thales.to_csv(\"clean_thales.csv\", index=False)\n",
    "clean_france.to_csv(\"clean_france.csv\", index=False)\n",
    "clean_sp500.to_csv(\"clean_sp500.csv\", index=False)\n",
    "clean_euro.to_csv(\"clean_euro.csv\", index=False)"
   ]
  }
 ],
 "metadata": {
  "kernelspec": {
   "display_name": "base",
   "language": "python",
   "name": "python3"
  },
  "language_info": {
   "codemirror_mode": {
    "name": "ipython",
    "version": 3
   },
   "file_extension": ".py",
   "mimetype": "text/x-python",
   "name": "python",
   "nbconvert_exporter": "python",
   "pygments_lexer": "ipython3",
   "version": "3.12.0"
  }
 },
 "nbformat": 4,
 "nbformat_minor": 2
}
